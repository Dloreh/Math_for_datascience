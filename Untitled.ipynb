{
 "cells": [
  {
   "cell_type": "markdown",
   "id": "e8ac9ca6",
   "metadata": {},
   "source": [
    "# Statistiques et Python"
   ]
  },
  {
   "cell_type": "markdown",
   "id": "9cfd4a11",
   "metadata": {},
   "source": [
    "## Anlayse exploratoire de données"
   ]
  },
  {
   "cell_type": "markdown",
   "id": "9fcf4421",
   "metadata": {},
   "source": [
    "Explorer la data est une étape crucriale dans l'analyse de données.<br>\n",
    "On appelle cette discipline l'analyse exploratoire de données\" et elle a été inventée par un statisticien du nom de \"John Tukey\".\n",
    "\n",
    "John Tukey a imaginé l'analyse exploratoire de données comme la porte d'entrée de l'analyse de données qui ne consiste pas à présenter une réalité absolue de la donnée mais qui sert de base à toute analyse qui sera réalisée sur le dataset.<br>\n",
    "\n"
   ]
  },
  {
   "cell_type": "markdown",
   "id": "7097d464",
   "metadata": {},
   "source": [
    "Dans chaque analyse de données il convient d'analyser les distributions de chaque variable, la répartition des valeurs et leur fréquence.\n",
    "\n",
    "Par exemple les moments statistiques, ainsi que les quantiles sont des informations très précieuses."
   ]
  },
  {
   "cell_type": "markdown",
   "id": "31fd60d6",
   "metadata": {},
   "source": [
    "**Quelle librairie utiliser?**\n",
    "\n",
    "De nombreuses librairies de visualisation peuvent être utilisées en Python.\n",
    "Matplotlib est la plus connue, seaborn en est une déclinaison plus puissante. Plotly est une librairie également très puissante.\n",
    "\n",
    "https://matplotlib.org/\n",
    "\n",
    "https://seaborn.pydata.org/\n",
    "\n",
    "https://plotly.com/"
   ]
  },
  {
   "cell_type": "markdown",
   "id": "245a83eb",
   "metadata": {},
   "source": [
    "### A. Analyse exploiratoire graphique"
   ]
  },
  {
   "cell_type": "markdown",
   "id": "3e9ecbca",
   "metadata": {},
   "source": [
    "### A.1. L'histogramme & le binning"
   ]
  },
  {
   "cell_type": "markdown",
   "id": "8d2930b5",
   "metadata": {},
   "source": [
    "Le binning (bucketing) consiste à créer des tranches de valeurs afin de regrouper une variable continue et de pouvoir analyser les valeurs à travers les groupes crées. \n",
    "On appelle cela la discrétisation car on transorme une variable à valeurs continues en variable à valeur discrète.\n",
    "\n",
    "Pour réaliser ce binning, la méthode de la racine carré est une des méthodes la plus utilisée.\n",
    "\n",
    "**Méthode de la racine carré:**\n",
    "\n",
    "Consiste à choisir un nombre de groupe = à la racine carré du nombre de valeurs contenues dans la variable."
   ]
  },
  {
   "cell_type": "code",
   "execution_count": 17,
   "id": "71540e0c",
   "metadata": {},
   "outputs": [
    {
     "data": {
      "image/png": "[encoded data removed]",
      "text/plain": [
       "<Figure size 432x288 with 1 Axes>"
      ]
     },
     "metadata": {
      "needs_background": "light"
     },
     "output_type": "display_data"
    }
   ],
   "source": [
    "#Exemple\n",
    "\n",
    "#importation des librairies qui seront utilisées\n",
    "import numpy as np\n",
    "import matplotlib.pyplot as plt\n",
    "\n",
    "#\n",
    "my_array = np.random.randn(100) # Création d'un tableau avec 100 élements aléatoire\n",
    "square_root_method = int(np.sqrt(len(my_array)))\n",
    "_ = plt.hist(my_array, bins=square_root_method)\n",
    "_ = plt.xlabel('Bins')\n",
    "_ = plt.ylabel('Nombre de valeurs')\n",
    "_ = plt.title('Histogramme par Bin')\n",
    "plt.show()"
   ]
  },
  {
   "cell_type": "markdown",
   "id": "28f3977c",
   "metadata": {},
   "source": [
    "### A.2. Le 'bee swarm plot' ou le diagramme en accordéon"
   ]
  },
  {
   "cell_type": "markdown",
   "id": "981a3152",
   "metadata": {},
   "source": [
    "Le diagramme en accordéon permet de visualiser l'ensemble des données lorsqu'elles sont définies par catégories.\n",
    "C'est un outil puissant de visualisation."
   ]
  },
  {
   "cell_type": "code",
   "execution_count": 19,
   "id": "19f66d15",
   "metadata": {},
   "outputs": [
    {
     "data": {
      "text/html": [
       "<div>\n",
       "<style scoped>\n",
       "    .dataframe tbody tr th:only-of-type {\n",
       "        vertical-align: middle;\n",
       "    }\n",
       "\n",
       "    .dataframe tbody tr th {\n",
       "        vertical-align: top;\n",
       "    }\n",
       "\n",
       "    .dataframe thead th {\n",
       "        text-align: right;\n",
       "    }\n",
       "</style>\n",
       "<table border=\"1\" class=\"dataframe\">\n",
       "  <thead>\n",
       "    <tr style=\"text-align: right;\">\n",
       "      <th></th>\n",
       "      <th>total_bill</th>\n",
       "      <th>tip</th>\n",
       "      <th>sex</th>\n",
       "      <th>smoker</th>\n",
       "      <th>day</th>\n",
       "      <th>time</th>\n",
       "      <th>size</th>\n",
       "    </tr>\n",
       "  </thead>\n",
       "  <tbody>\n",
       "    <tr>\n",
       "      <th>0</th>\n",
       "      <td>16.99</td>\n",
       "      <td>1.01</td>\n",
       "      <td>Female</td>\n",
       "      <td>No</td>\n",
       "      <td>Sun</td>\n",
       "      <td>Dinner</td>\n",
       "      <td>2</td>\n",
       "    </tr>\n",
       "    <tr>\n",
       "      <th>1</th>\n",
       "      <td>10.34</td>\n",
       "      <td>1.66</td>\n",
       "      <td>Male</td>\n",
       "      <td>No</td>\n",
       "      <td>Sun</td>\n",
       "      <td>Dinner</td>\n",
       "      <td>3</td>\n",
       "    </tr>\n",
       "    <tr>\n",
       "      <th>2</th>\n",
       "      <td>21.01</td>\n",
       "      <td>3.50</td>\n",
       "      <td>Male</td>\n",
       "      <td>No</td>\n",
       "      <td>Sun</td>\n",
       "      <td>Dinner</td>\n",
       "      <td>3</td>\n",
       "    </tr>\n",
       "    <tr>\n",
       "      <th>3</th>\n",
       "      <td>23.68</td>\n",
       "      <td>3.31</td>\n",
       "      <td>Male</td>\n",
       "      <td>No</td>\n",
       "      <td>Sun</td>\n",
       "      <td>Dinner</td>\n",
       "      <td>2</td>\n",
       "    </tr>\n",
       "    <tr>\n",
       "      <th>4</th>\n",
       "      <td>24.59</td>\n",
       "      <td>3.61</td>\n",
       "      <td>Female</td>\n",
       "      <td>No</td>\n",
       "      <td>Sun</td>\n",
       "      <td>Dinner</td>\n",
       "      <td>4</td>\n",
       "    </tr>\n",
       "  </tbody>\n",
       "</table>\n",
       "</div>"
      ],
      "text/plain": [
       "   total_bill   tip     sex smoker  day    time  size\n",
       "0       16.99  1.01  Female     No  Sun  Dinner     2\n",
       "1       10.34  1.66    Male     No  Sun  Dinner     3\n",
       "2       21.01  3.50    Male     No  Sun  Dinner     3\n",
       "3       23.68  3.31    Male     No  Sun  Dinner     2\n",
       "4       24.59  3.61  Female     No  Sun  Dinner     4"
      ]
     },
     "execution_count": 19,
     "metadata": {},
     "output_type": "execute_result"
    }
   ],
   "source": [
    "#Exemple\n",
    "import seaborn as sns #nous utilisons seasborn pour modéliser le diagramme\n",
    "\n",
    "sns.set_theme()\n",
    "tips = sns.load_dataset(\"tips\")\n",
    "tips.head()"
   ]
  },
  {
   "cell_type": "markdown",
   "id": "1dd07a5f",
   "metadata": {},
   "source": [
    "Nous souhaitons afficher les pourboires par sexe:"
   ]
  },
  {
   "cell_type": "code",
   "execution_count": 25,
   "id": "77782028",
   "metadata": {},
   "outputs": [
    {
     "data": {
      "image/png": "[encoded data removed]",
      "text/plain": [
       "<Figure size 432x288 with 1 Axes>"
      ]
     },
     "metadata": {},
     "output_type": "display_data"
    }
   ],
   "source": [
    "ax = sns.swarmplot(x='sex', y='tip', data=tips).set_title('Montant des pourboires par sexe')"
   ]
  },
  {
   "cell_type": "markdown",
   "id": "d7086a2c",
   "metadata": {},
   "source": [
    "Nous pouvons voir assez clairement la répartition de nos distirbutions sur cette forme de diagramme.\n",
    "Nous voyons:\n",
    "    * Le max et le min\n",
    "    * La fréquence pour chaque valeur, \n",
    "    * La comparaison entre chaque élement de catégorie, içi le sexe\n",
    "    \n",
    "Limites: \n",
    "    * dans le cas de données massives les données peuvent se chevaucher et nous perdons la lisibilité et l'interêt du diagramme. On parle 'd'overlapping'.<br>\n",
    " Dans ce cas on lui préferera le boxplot."
   ]
  },
  {
   "cell_type": "markdown",
   "id": "b533f075",
   "metadata": {},
   "source": [
    "### A.3. Fonction de répartition empirique (empirical cumulative distribution function ECDF)"
   ]
  },
  {
   "cell_type": "markdown",
   "id": "9bee41ab",
   "metadata": {},
   "source": [
    "La fonction de répartition empirique est une fonction qui attribue la probabilité $\\frac{1}{n}$ à chacun des $n$ nombres d'un échantillon.\n",
    "\n",
    "Il en découle l'utilisation de principes mathématiques propre à une telle distribution estimée:\n",
    "\n",
    "https://en.wikipedia.org/wiki/Empirical_distribution_function"
   ]
  },
  {
   "cell_type": "markdown",
   "id": "c3eae8e0",
   "metadata": {},
   "source": [
    "Afin de générer un ECDF il faut que l'axe des abcisses soit la variable que l'on souhaite analyser ordonnée par ordre croissant.<br>\n",
    "Il faut également que \n"
   ]
  },
  {
   "cell_type": "code",
   "execution_count": 27,
   "id": "f9a88f9b",
   "metadata": {},
   "outputs": [
    {
     "data": {
      "text/html": [
       "<div>\n",
       "<style scoped>\n",
       "    .dataframe tbody tr th:only-of-type {\n",
       "        vertical-align: middle;\n",
       "    }\n",
       "\n",
       "    .dataframe tbody tr th {\n",
       "        vertical-align: top;\n",
       "    }\n",
       "\n",
       "    .dataframe thead th {\n",
       "        text-align: right;\n",
       "    }\n",
       "</style>\n",
       "<table border=\"1\" class=\"dataframe\">\n",
       "  <thead>\n",
       "    <tr style=\"text-align: right;\">\n",
       "      <th></th>\n",
       "      <th>total_bill</th>\n",
       "      <th>tip</th>\n",
       "      <th>sex</th>\n",
       "      <th>smoker</th>\n",
       "      <th>day</th>\n",
       "      <th>time</th>\n",
       "      <th>size</th>\n",
       "    </tr>\n",
       "  </thead>\n",
       "  <tbody>\n",
       "    <tr>\n",
       "      <th>0</th>\n",
       "      <td>16.99</td>\n",
       "      <td>1.01</td>\n",
       "      <td>Female</td>\n",
       "      <td>No</td>\n",
       "      <td>Sun</td>\n",
       "      <td>Dinner</td>\n",
       "      <td>2</td>\n",
       "    </tr>\n",
       "    <tr>\n",
       "      <th>1</th>\n",
       "      <td>10.34</td>\n",
       "      <td>1.66</td>\n",
       "      <td>Male</td>\n",
       "      <td>No</td>\n",
       "      <td>Sun</td>\n",
       "      <td>Dinner</td>\n",
       "      <td>3</td>\n",
       "    </tr>\n",
       "    <tr>\n",
       "      <th>2</th>\n",
       "      <td>21.01</td>\n",
       "      <td>3.50</td>\n",
       "      <td>Male</td>\n",
       "      <td>No</td>\n",
       "      <td>Sun</td>\n",
       "      <td>Dinner</td>\n",
       "      <td>3</td>\n",
       "    </tr>\n",
       "    <tr>\n",
       "      <th>3</th>\n",
       "      <td>23.68</td>\n",
       "      <td>3.31</td>\n",
       "      <td>Male</td>\n",
       "      <td>No</td>\n",
       "      <td>Sun</td>\n",
       "      <td>Dinner</td>\n",
       "      <td>2</td>\n",
       "    </tr>\n",
       "    <tr>\n",
       "      <th>4</th>\n",
       "      <td>24.59</td>\n",
       "      <td>3.61</td>\n",
       "      <td>Female</td>\n",
       "      <td>No</td>\n",
       "      <td>Sun</td>\n",
       "      <td>Dinner</td>\n",
       "      <td>4</td>\n",
       "    </tr>\n",
       "  </tbody>\n",
       "</table>\n",
       "</div>"
      ],
      "text/plain": [
       "   total_bill   tip     sex smoker  day    time  size\n",
       "0       16.99  1.01  Female     No  Sun  Dinner     2\n",
       "1       10.34  1.66    Male     No  Sun  Dinner     3\n",
       "2       21.01  3.50    Male     No  Sun  Dinner     3\n",
       "3       23.68  3.31    Male     No  Sun  Dinner     2\n",
       "4       24.59  3.61  Female     No  Sun  Dinner     4"
      ]
     },
     "execution_count": 27,
     "metadata": {},
     "output_type": "execute_result"
    }
   ],
   "source": [
    "#example:\n",
    "import numpy as np\n",
    "\n",
    "sns.set_theme()\n",
    "tips = sns.load_dataset(\"tips\")\n",
    "tips.head()"
   ]
  },
  {
   "cell_type": "code",
   "execution_count": 48,
   "id": "bc7c9861",
   "metadata": {},
   "outputs": [
    {
     "data": {
      "image/png": "[encoded data removed]",
      "text/plain": [
       "<Figure size 432x288 with 1 Axes>"
      ]
     },
     "metadata": {},
     "output_type": "display_data"
    }
   ],
   "source": [
    "x_abcisse = np.sort(tips['tip'])\n",
    "y_ordonnee = np.arange(1, len(x_abcisse)+1) / len(x_abcisse)\n",
    "\n",
    "_ = plt.plot(x_abcisse, y_ordonnee, marker='.', linestyle='none')\n",
    "_ = plt.xlabel('Tips')\n",
    "_ = plt.ylabel('ECDF')\n",
    "plt.margins(0.01) #evite d'avoir des points qui sortent\n",
    "plt.show()"
   ]
  },
  {
   "cell_type": "markdown",
   "id": "d1cbde93",
   "metadata": {},
   "source": [
    "**Interpréter cette courbe:**\n",
    "    \n",
    "Nous pouvons par exemple lire que 20% des pourboires données sont < 2 et que de 20% à 35% les pourboires sont les mêmes: 2 soit plus d'1/3 des pourboires sont <= 2.\n",
    "\n",
    "Cette courble est un outil puissant de visualisation des données pour se familiariser avec un set dans le cadre d'une analyse exploratoire de données."
   ]
  },
  {
   "cell_type": "markdown",
   "id": "1566587b",
   "metadata": {},
   "source": [
    "A noter qu'il est possible de plot plusieurs courbles à la fois afin de visualiser plusieurs catégories. Comme pour les hommes et les femmes, en succédant plusieurs plt.plot."
   ]
  },
  {
   "cell_type": "markdown",
   "id": "28332b8d",
   "metadata": {},
   "source": [
    "### B. Analyse exploratoire quantitative"
   ]
  },
  {
   "cell_type": "markdown",
   "id": "5cea0d13",
   "metadata": {},
   "source": [
    "Les méthodes graphiques sont de puissants outils visuels mais ne sont pas suffisant.\n",
    "Il est nécessaire ce calculer certaines valeurs mathématiques afin d'avoir une représentation précise de nos données.\n",
    "\n"
   ]
  },
  {
   "cell_type": "markdown",
   "id": "49e13a40",
   "metadata": {},
   "source": [
    "### B.1 Moyenne &  médiane, marqueur de tendance centrale d'une distriibution"
   ]
  },
  {
   "cell_type": "markdown",
   "id": "baf929b4",
   "metadata": {},
   "source": [
    "**La moyenne** est un outil très intéressant mais n'est pas robuste car soumis à la proportion que les outliers peuvent prendre dans un échantillon.\n",
    "\n",
    "**La médiane** est plus robuste que la moyenne, s'avère très intéressante pour obtenir une idée de la tendance centrale  et n'est pas influencée par les valeurs extrêmes.<br> \n",
    "\n",
    "Cependant la médiane ne donne aucune indication de la forme de la distribution.\n"
   ]
  },
  {
   "cell_type": "markdown",
   "id": "07ed7c34",
   "metadata": {},
   "source": [
    "### B.2 Percentiles, outliers et box plot"
   ]
  },
  {
   "cell_type": "markdown",
   "id": "9e3866fa",
   "metadata": {},
   "source": [
    "Les percentiles sont les valeur de la variable qui divise le set en groupes. Le 25eme percentile coupera la distribution en deux. Une partie avec 25% des valeurs en dessous et 75% en dessus."
   ]
  },
  {
   "cell_type": "markdown",
   "id": "71266623",
   "metadata": {},
   "source": [
    "Les percentiles sont en lien avec l'ECDF que nous avons vu.<br>\n",
    "En effet, moyennant une expression du percentile en valeur comprise entre 0 et 1 nous pouvons afficher sur l'ECDF les percentiles souhaités ."
   ]
  },
  {
   "cell_type": "markdown",
   "id": "d8c7247c",
   "metadata": {},
   "source": [
    "Un outil statistique puissant de visualisation est le box plot, ou le diagramme à moustache.\n",
    "\n",
    "En effet, Celui ci permet de visualiser:\n",
    "* les quartiles représentés par la barre haute et basse du rectangle,\n",
    "* la médiane représentée par un barre horizontale,\n",
    "* les minimum et maximum théorique attendu Q3 +1.5*IQR ou Q1 -1.5*IQR, avec IQR =écart interqartile.\n",
    "* Les outliers représentés par des points au delà ou en deça des moustaches."
   ]
  },
  {
   "cell_type": "code",
   "execution_count": 51,
   "id": "baeb4113",
   "metadata": {},
   "outputs": [
    {
     "data": {
      "image/png": "[encoded data removed]",
      "text/plain": [
       "<Figure size 432x288 with 1 Axes>"
      ]
     },
     "metadata": {},
     "output_type": "display_data"
    }
   ],
   "source": [
    "#exemple\n",
    "\n",
    "import matplotlib.pyplot as plt\n",
    "import seaborn as sns\n",
    "\n",
    "sns.set_theme()\n",
    "tips = sns.load_dataset(\"tips\")\n",
    "\n",
    "_ = sns.boxplot(\n",
    "    x='sex',\n",
    "    y='tip',\n",
    "    data=tips)\n",
    "\n",
    "# Label the axes\n",
    "_ = plt.xlabel('sexe')\n",
    "_ = plt.ylabel('Pourboires')\n",
    "\n",
    "\n",
    "# Show the plot\n",
    "plt.show()\n"
   ]
  },
  {
   "cell_type": "markdown",
   "id": "190c5e82",
   "metadata": {},
   "source": [
    "On remarque donc les élements mentionnés plus haut. On voit que la distribution des pourboires payés par les hommes comportent plus d'outliers que celle des pourboires payés par les femmes.\n",
    "On constate une distribution principale Min à Max et IQS assez identique. Ce qui différencie les deux distributions est le nombre et la valeur des outliers."
   ]
  },
  {
   "cell_type": "markdown",
   "id": "b97aa56d",
   "metadata": {},
   "source": [
    "### B.3 Variance et écart type(standard deviation: std)"
   ]
  },
  {
   "cell_type": "markdown",
   "id": "b60d0a95",
   "metadata": {},
   "source": [
    "Les valeurs centrales de distribution ne nous permettent pas de connaitre l'étendue et la variabilité des données.\n",
    "La variance est le carré de la moyenne des écarts à la moyenne. \n",
    "\n",
    "C'est pourquoi nous utilisons plutôt l'écart type lors d'une analyse, qui est la racine carré de la variance et qui exprime ce qu'exprime la variance mais dans la même unité que celle de la variable étudiée."
   ]
  },
  {
   "cell_type": "markdown",
   "id": "a40f202b",
   "metadata": {},
   "source": [
    "### B.4 Covariance et le coefficient de Pearson"
   ]
  },
  {
   "cell_type": "markdown",
   "id": "23748b3e",
   "metadata": {},
   "source": [
    "Un outil graphique puissant est le scatter plot ou le nuage de point.\n",
    "\n",
    "Cet outil nous permet d'analyser la distribution de deux variables et de constater comment elles évoluent entrs elles dans le set de données, autrement dit comment elles sont correlées.\n",
    "\n",
    "**La covariance** est un indicateur de corrélation. C'est la somme des produits des écarts à la moyenne des deux variables, divisé par la taille de l'échantillon.\n",
    "\n",
    "Si la covariance est positive ou négative alors les deux variables sont correlées et évoluent dans le même sens ou dans un sens contraire.\n",
    "\n",
    "**Le coefficient de Pearson** est la covariance / le produit des écarts types des deux variables.\n",
    "\n",
    "Le coefficient de Pearson n'a pas d'unité. Lorsqu'il est proche de 0 les deux variables ne sont pas du tout corrélées et plus il est proche de 1 ou -1, plus elles le sont."
   ]
  },
  {
   "cell_type": "code",
   "execution_count": 8,
   "id": "69e5991c",
   "metadata": {},
   "outputs": [
    {
     "data": {
      "text/html": [
       "<div>\n",
       "<style scoped>\n",
       "    .dataframe tbody tr th:only-of-type {\n",
       "        vertical-align: middle;\n",
       "    }\n",
       "\n",
       "    .dataframe tbody tr th {\n",
       "        vertical-align: top;\n",
       "    }\n",
       "\n",
       "    .dataframe thead th {\n",
       "        text-align: right;\n",
       "    }\n",
       "</style>\n",
       "<table border=\"1\" class=\"dataframe\">\n",
       "  <thead>\n",
       "    <tr style=\"text-align: right;\">\n",
       "      <th></th>\n",
       "      <th>total_bill</th>\n",
       "      <th>tip</th>\n",
       "      <th>sex</th>\n",
       "      <th>smoker</th>\n",
       "      <th>day</th>\n",
       "      <th>time</th>\n",
       "      <th>size</th>\n",
       "    </tr>\n",
       "  </thead>\n",
       "  <tbody>\n",
       "    <tr>\n",
       "      <th>0</th>\n",
       "      <td>16.99</td>\n",
       "      <td>1.01</td>\n",
       "      <td>Female</td>\n",
       "      <td>No</td>\n",
       "      <td>Sun</td>\n",
       "      <td>Dinner</td>\n",
       "      <td>2</td>\n",
       "    </tr>\n",
       "    <tr>\n",
       "      <th>1</th>\n",
       "      <td>10.34</td>\n",
       "      <td>1.66</td>\n",
       "      <td>Male</td>\n",
       "      <td>No</td>\n",
       "      <td>Sun</td>\n",
       "      <td>Dinner</td>\n",
       "      <td>3</td>\n",
       "    </tr>\n",
       "    <tr>\n",
       "      <th>2</th>\n",
       "      <td>21.01</td>\n",
       "      <td>3.50</td>\n",
       "      <td>Male</td>\n",
       "      <td>No</td>\n",
       "      <td>Sun</td>\n",
       "      <td>Dinner</td>\n",
       "      <td>3</td>\n",
       "    </tr>\n",
       "    <tr>\n",
       "      <th>3</th>\n",
       "      <td>23.68</td>\n",
       "      <td>3.31</td>\n",
       "      <td>Male</td>\n",
       "      <td>No</td>\n",
       "      <td>Sun</td>\n",
       "      <td>Dinner</td>\n",
       "      <td>2</td>\n",
       "    </tr>\n",
       "    <tr>\n",
       "      <th>4</th>\n",
       "      <td>24.59</td>\n",
       "      <td>3.61</td>\n",
       "      <td>Female</td>\n",
       "      <td>No</td>\n",
       "      <td>Sun</td>\n",
       "      <td>Dinner</td>\n",
       "      <td>4</td>\n",
       "    </tr>\n",
       "  </tbody>\n",
       "</table>\n",
       "</div>"
      ],
      "text/plain": [
       "   total_bill   tip     sex smoker  day    time  size\n",
       "0       16.99  1.01  Female     No  Sun  Dinner     2\n",
       "1       10.34  1.66    Male     No  Sun  Dinner     3\n",
       "2       21.01  3.50    Male     No  Sun  Dinner     3\n",
       "3       23.68  3.31    Male     No  Sun  Dinner     2\n",
       "4       24.59  3.61  Female     No  Sun  Dinner     4"
      ]
     },
     "execution_count": 8,
     "metadata": {},
     "output_type": "execute_result"
    }
   ],
   "source": [
    "#example:\n",
    "import numpy as np\n",
    "import matplotlib.pyplot as plt\n",
    "import seaborn as sns\n",
    "\n",
    "sns.set_theme()\n",
    "tips = sns.load_dataset(\"tips\")\n",
    "\n",
    "tips.head()"
   ]
  },
  {
   "cell_type": "code",
   "execution_count": 9,
   "id": "c598e2d0",
   "metadata": {},
   "outputs": [
    {
     "data": {
      "image/png": "[encoded data removed]",
      "text/plain": [
       "<Figure size 432x288 with 1 Axes>"
      ]
     },
     "metadata": {},
     "output_type": "display_data"
    }
   ],
   "source": [
    "_ = plt.plot(tips['tip'], tips['total_bill'], marker='.', linestyle='none')\n",
    "\n",
    "\n",
    "# Label the axes\n",
    "_ = plt.xlabel('Pourboires')\n",
    "\n",
    "_ = plt.ylabel('Total facture')\n",
    "\n",
    "\n",
    "# Show the result\n",
    "plt.show()"
   ]
  },
  {
   "cell_type": "markdown",
   "id": "c556a949",
   "metadata": {},
   "source": [
    "Nous constatons que les variables sont relativement correllées positivement.<br>\n",
    "Nous pouvons le constater en calculant le coefficient de Pearson et la covariance."
   ]
  },
  {
   "cell_type": "markdown",
   "id": "5af25fd2",
   "metadata": {},
   "source": [
    "La covariance en python est appellée la matrice de covariance car il en retourne un array à deux dimensions où nous voyons apparaitre les covariances et les variances des deux variables.<br>"
   ]
  },
  {
   "cell_type": "code",
   "execution_count": 11,
   "id": "30694608",
   "metadata": {},
   "outputs": [
    {
     "data": {
      "text/plain": [
       "array([[ 1.91445464,  8.32350163],\n",
       "       [ 8.32350163, 79.25293861]])"
      ]
     },
     "execution_count": 11,
     "metadata": {},
     "output_type": "execute_result"
    }
   ],
   "source": [
    "#covariance\n",
    "np.cov(tips['tip'], tips['total_bill'])"
   ]
  },
  {
   "cell_type": "markdown",
   "id": "e65a8b24",
   "metadata": {},
   "source": [
    "On constate:\n",
    "   * variance variable 'tip' = 1.9\n",
    "   * variance variable 'total_bill' = 79.25\n",
    "   * covariance = 8.32"
   ]
  },
  {
   "cell_type": "code",
   "execution_count": 13,
   "id": "aff30ce0",
   "metadata": {},
   "outputs": [
    {
     "data": {
      "text/plain": [
       "array([[1.        , 0.67573411],\n",
       "       [0.67573411, 1.        ]])"
      ]
     },
     "execution_count": 13,
     "metadata": {},
     "output_type": "execute_result"
    }
   ],
   "source": [
    "#Coefficient de Pearson:\n",
    "np.corrcoef(tips['tip'], tips['total_bill'])"
   ]
  },
  {
   "cell_type": "markdown",
   "id": "62fc02ca",
   "metadata": {},
   "source": [
    "Nous constatons un r (coefficient de Pearson) de 0.68 indiquant le degrés de corrélation des deux variables.<br>\n",
    "à noter que les indices [0,0] et [1,1] de ce tableau à deux dimensions qui est renvoyé par python est toujours de 1. Cela est logique puique le calcul est réalisé à partir de la matrice de covariance et qu'à ces indices ce sont les variances de chaque variable qui y sont présente.\n",
    "\n",
    "-----------------------------"
   ]
  },
  {
   "cell_type": "markdown",
   "id": "f1c4db54",
   "metadata": {},
   "source": [
    "## Logique probabiliste et statistique inférentielle"
   ]
  },
  {
   "cell_type": "markdown",
   "id": "84a14e80",
   "metadata": {},
   "source": [
    "Les statistiques inférentielles nous permette d'étendre une analyse d'un échantillon à une population dont il a été extrait.\n",
    "\n",
    "Grâce à ces outils nous pourrons établir des probabilités pour une population donné à partir d'un échantillon."
   ]
  },
  {
   "cell_type": "markdown",
   "id": "d381bf69",
   "metadata": {},
   "source": [
    "## Probabilités"
   ]
  },
  {
   "cell_type": "markdown",
   "id": "04ee0b38",
   "metadata": {},
   "source": [
    "Afin de simuler des experiences aléatoires, nous utilisons le module random de numpy.<br>\n",
    "\n",
    "Par ailleurs nous utilisons la méthode .seed() afin de 'stabiliser' les expériences aléatoires en python car à chaque exécution du code, de nouvelles valeurs sont generées. Il peut être nécessaire de conserver une suite de valeurs generées. C'est ce pourquoi nous utilisons .seed()\n",
    "\n",
    "En programmation les nombres aléatoires sont generés à partir de nombre très grand, la graine (seed) défini un même nombre pour le calcul des exeriences aléatoires ce qui entraine une génération de nombre identiques.\n"
   ]
  },
  {
   "cell_type": "markdown",
   "id": "3ecdd5c4",
   "metadata": {},
   "source": [
    "### Bernoulli trial: schéma de Bernoulli"
   ]
  },
  {
   "cell_type": "markdown",
   "id": "3a290b5d",
   "metadata": {},
   "source": [
    "Un schéma de Bernoulli et une répétition d'experience aléatoire dont les issus possibles sont binaires (succès ou défaite) et chaque issu possible à une probabilité associé.\n",
    "\n",
    "\n",
    "L'exemple le plus parlant et le plus courant est le jeu de pile ou face.<br>\n",
    "Dans ce jeu, on peut soit avoir pile soit avoir face et, dans le cas d'une pièce non truquée, 50% de chance d'obtenir l'une ou l'autre de ces issues.<br>\n",
    "Ceci défini un schéma de Bernoulli."
   ]
  },
  {
   "cell_type": "code",
   "execution_count": 23,
   "id": "7e29839f",
   "metadata": {},
   "outputs": [
    {
     "data": {
      "text/plain": [
       "array([0.54340494, 0.27836939, 0.42451759, 0.84477613, 0.00471886])"
      ]
     },
     "execution_count": 23,
     "metadata": {},
     "output_type": "execute_result"
    }
   ],
   "source": [
    "#example, jetté de 5 pièces de monnaie\n",
    "import numpy as np\n",
    "\n",
    "#seed du générateur de nombre aléatoire\n",
    "np.random.seed(100) \n",
    "\n",
    "# génération de l'experience\n",
    "nbr_aleatoire = np.random.random(size = 5) #generation des nombres aléatoires\n",
    "nbr_aleatoire"
   ]
  },
  {
   "cell_type": "code",
   "execution_count": 29,
   "id": "75487bdc",
   "metadata": {},
   "outputs": [],
   "source": [
    "face = nbr_aleatoire > 0.5\n",
    "pile = nbr_aleatoire <=0.5"
   ]
  },
  {
   "cell_type": "code",
   "execution_count": 32,
   "id": "e18ddb6b",
   "metadata": {},
   "outputs": [
    {
     "name": "stdout",
     "output_type": "stream",
     "text": [
      "Face: [ True False False  True False], Pile : [False  True  True False  True]\n"
     ]
    }
   ],
   "source": [
    "print(f'Face: {face}, Pile : {pile}')"
   ]
  },
  {
   "cell_type": "markdown",
   "id": "02b2280f",
   "metadata": {},
   "source": [
    "Dans le cas où nous voulons simuler une experience plus complexe une boucle for est utilisée.\n",
    "\n",
    "Par exemple imaginons que nous voulions simuler 5000 fois 4 lancés d'une pièce non truquée et calculer la probabilité d'obtenir 3 faces à chaque fois?"
   ]
  },
  {
   "cell_type": "code",
   "execution_count": 54,
   "id": "89075ef9",
   "metadata": {},
   "outputs": [
    {
     "data": {
      "text/plain": [
       "0.2448"
      ]
     },
     "execution_count": 54,
     "metadata": {},
     "output_type": "execute_result"
    }
   ],
   "source": [
    "nbr_reussite = 0\n",
    "for e in range(5000):\n",
    "    face = np.random.random(size = 4) < 0.5\n",
    "    if np.sum(face) == 3:\n",
    "        nbr_reussite += 1\n",
    "\n",
    "nbr_reussite / 5000   "
   ]
  },
  {
   "cell_type": "markdown",
   "id": "a5a818d9",
   "metadata": {},
   "source": [
    "Chose intéressante, notez que l'on a autant de chance d'obtenir exactement 1, 2, 3 faces à chaque fois ce que l'on peut vérifier en modifiant la condition np.sum(face) == x.\n",
    "\n",
    "La programmation est un outil très performant pour réaliser ce que l'on appelle un hacking de statistiques puisqu'il est très simple de réaliser des expériences de très grandes nombreuses de fois et en vérifier le résultat empirique."
   ]
  },
  {
   "cell_type": "markdown",
   "id": "4d360978",
   "metadata": {},
   "source": [
    "Autre example tiré de datacamp cours 'Statistical thinking in Python 1':\n",
    "Nous souhaitons savoir sur 100 prêts accordés avec une probabilité de défaut de remboursement de 0.05, combien seront non honorés."
   ]
  },
  {
   "cell_type": "code",
   "execution_count": 71,
   "id": "566ea85a",
   "metadata": {},
   "outputs": [
    {
     "data": {
      "image/png": "[encoded data removed]",
      "text/plain": [
       "<Figure size 432x288 with 1 Axes>"
      ]
     },
     "metadata": {},
     "output_type": "display_data"
    }
   ],
   "source": [
    "#Funtion bernoulli trial\n",
    "def perform_bernoulli_trials(n, p):\n",
    "    n_success = 0\n",
    "    for i in range(n):\n",
    "        randnum = np.random.random()\n",
    "        if randnum < p:\n",
    "            n_success += 1\n",
    "    return n_success\n",
    "    \n",
    "np.random.seed(42) \n",
    "\n",
    "n_defaults = np.empty(1000)\n",
    "\n",
    "for i in range(1000):\n",
    "    n_defaults[i] = perform_bernoulli_trials(100, 0.05)\n",
    "    \n",
    "n_defaults\n",
    "\n",
    "_ = plt.hist(n_defaults, density = True)\n",
    "_ = plt.xlabel('number of defaults out of 100 loans')\n",
    "_ = plt.ylabel('probability')\n",
    "\n",
    "plt.show()"
   ]
  },
  {
   "cell_type": "code",
   "execution_count": null,
   "id": "2eab9328",
   "metadata": {},
   "outputs": [],
   "source": []
  },
  {
   "cell_type": "code",
   "execution_count": null,
   "id": "71b263ab",
   "metadata": {},
   "outputs": [],
   "source": []
  }
 ],
 "metadata": {
  "kernelspec": {
   "display_name": "Python 3",
   "language": "python",
   "name": "python3"
  },
  "language_info": {
   "codemirror_mode": {
    "name": "ipython",
    "version": 3
   },
   "file_extension": ".py",
   "mimetype": "text/x-python",
   "name": "python",
   "nbconvert_exporter": "python",
   "pygments_lexer": "ipython3",
   "version": "3.7.10"
  }
 },
 "nbformat": 4,
 "nbformat_minor": 5
}
